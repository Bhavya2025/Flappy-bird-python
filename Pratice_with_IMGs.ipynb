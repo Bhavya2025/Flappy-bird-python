{
  "nbformat": 4,
  "nbformat_minor": 0,
  "metadata": {
    "colab": {
      "name": "Pratice with IMGs",
      "provenance": [],
      "collapsed_sections": [],
      "authorship_tag": "ABX9TyP/z5fEFkI4uMoYUBZ8T3Vz",
      "include_colab_link": true
    },
    "kernelspec": {
      "name": "python3",
      "display_name": "Python 3"
    }
  },
  "cells": [
    {
      "cell_type": "markdown",
      "metadata": {
        "id": "view-in-github",
        "colab_type": "text"
      },
      "source": [
        "<a href=\"https://colab.research.google.com/github/Bhavya2025/Flappy-bird-python/blob/master/Pratice_with_IMGs.ipynb\" target=\"_parent\"><img src=\"https://colab.research.google.com/assets/colab-badge.svg\" alt=\"Open In Colab\"/></a>"
      ]
    },
    {
      "cell_type": "code",
      "metadata": {
        "id": "qGdtZYWysoQ8"
      },
      "source": [
        "from google.colab import files\r\n",
        "from IPython.display import Image, display\r\n",
        "\r\n",
        "\r\n",
        "AshishComing = int(input(\"Is Ashish coming to Shaun's birthday party or not?\\n If coming press 1\\n If not coming smash 2\\n \"))\r\n",
        "\r\n",
        "Ashish = None\r\n",
        "\r\n",
        "if AshishComing == 1:\r\n",
        "  display(Image('1.PNG'))\r\n",
        "if AshishComing == 2:\r\n",
        "  display(Image('2.PNG'))\r\n"
      ],
      "execution_count": null,
      "outputs": []
    }
  ]
}